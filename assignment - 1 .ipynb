{
 "cells": [
  {
   "cell_type": "markdown",
   "id": "0f9b649e",
   "metadata": {},
   "source": [
    "1. in the given question\n",
    "\n",
    "'*' - expression\n",
    "\n",
    "'hello' - value\n",
    "\n",
    "-87.8 - value\n",
    "\n",
    "'-' - expression\n",
    "\n",
    "'/' - expression\n",
    "\n",
    "'+' - expression\n",
    "\n",
    "6 - value"
   ]
  },
  {
   "cell_type": "markdown",
   "id": "a5ce3f8e",
   "metadata": {},
   "source": [
    "2.\n",
    "the difference between string and variable\n",
    "\n",
    "string is a datatype which is used to hold a group of letters and words\n",
    "variable is an identifier which is used to hold any value that we later use in the code."
   ]
  },
  {
   "cell_type": "markdown",
   "id": "c3c16095",
   "metadata": {},
   "source": [
    "3. three different datatypes\n",
    "\n",
    "int - int is a datatype which holds a integer value. which includes both negative and positive integers. eg : -22, 186\n",
    "\n",
    "float - float is a datatype which holds a decimal value. eg - 22.1, -82.33\n",
    "\n",
    "char - char is a datatype which holds a character or in simple words it holds alphabets which include both captial and small letters. eg - 'A', 'b' "
   ]
  },
  {
   "cell_type": "markdown",
   "id": "0a751681",
   "metadata": {},
   "source": [
    "4. \n",
    "\n",
    "expression :- An expression is a set of numbers or variables combined using the operations + , – , × or ÷.\n",
    "\n",
    "An expression is a combination of operators and operands that is interpreted to produce some other value. In any programming language, an expression is evaluated as per the precedence of its operators."
   ]
  },
  {
   "cell_type": "markdown",
   "id": "ff82ac46",
   "metadata": {},
   "source": [
    "5. difference between a expression and assignment\n",
    "\n",
    "expression is a group of numerics , varables, and operators which produces a value.\n",
    "\n",
    "statement is a instruction that we give to the interpeter or compiler to execute."
   ]
  },
  {
   "cell_type": "code",
   "execution_count": 2,
   "id": "9624fe6d",
   "metadata": {},
   "outputs": [
    {
     "data": {
      "text/plain": [
       "22"
      ]
     },
     "execution_count": 2,
     "metadata": {},
     "output_type": "execute_result"
    }
   ],
   "source": [
    "## 6.\n",
    "\n",
    "bacon =22\n",
    "bacon+1\n",
    "\n",
    "bacon\n",
    "\n",
    "# the value will not change"
   ]
  },
  {
   "cell_type": "code",
   "execution_count": 6,
   "id": "1622e6d0",
   "metadata": {},
   "outputs": [
    {
     "name": "stdout",
     "output_type": "stream",
     "text": [
      "spamspamspam\n",
      "spamspamspam\n"
     ]
    }
   ],
   "source": [
    "## 7.\n",
    "\n",
    "print('spam' + 'spamspam')\n",
    "print('spam' * 3)\n",
    "\n",
    "# in the both cases it will give the value 'spamspamspam'"
   ]
  },
  {
   "cell_type": "markdown",
   "id": "1b567f61",
   "metadata": {},
   "source": [
    "8. because a variable name should start with a alphabet letter or under score but should not start with a numeric."
   ]
  },
  {
   "cell_type": "markdown",
   "id": "82050a33",
   "metadata": {},
   "source": [
    "#9.\n",
    "\n",
    "The int() , float() , and str( ) functions will evaluate to the integer, \n",
    "floating-point number, and string versions of the value passed to them."
   ]
  },
  {
   "cell_type": "code",
   "execution_count": 11,
   "id": "3eabfa61",
   "metadata": {},
   "outputs": [
    {
     "data": {
      "text/plain": [
       "12"
      ]
     },
     "execution_count": 11,
     "metadata": {},
     "output_type": "execute_result"
    }
   ],
   "source": [
    "int('12')"
   ]
  },
  {
   "cell_type": "code",
   "execution_count": 12,
   "id": "46838bda",
   "metadata": {},
   "outputs": [
    {
     "data": {
      "text/plain": [
       "12.89"
      ]
     },
     "execution_count": 12,
     "metadata": {},
     "output_type": "execute_result"
    }
   ],
   "source": [
    "float('12.89')"
   ]
  },
  {
   "cell_type": "code",
   "execution_count": 13,
   "id": "a1d165d6",
   "metadata": {},
   "outputs": [
    {
     "data": {
      "text/plain": [
       "'12'"
      ]
     },
     "execution_count": 13,
     "metadata": {},
     "output_type": "execute_result"
    }
   ],
   "source": [
    "str(12)"
   ]
  },
  {
   "cell_type": "code",
   "execution_count": 15,
   "id": "0e11fd4d",
   "metadata": {},
   "outputs": [
    {
     "data": {
      "text/plain": [
       "'I have eaten 99 burritos.'"
      ]
     },
     "execution_count": 15,
     "metadata": {},
     "output_type": "execute_result"
    }
   ],
   "source": [
    "# 10.\n",
    "\n",
    "# 'I have eaten ' + 99 + ' burritos.'\n",
    "\n",
    "#to fix this we have to include 99 in single quotes.\n",
    "\n",
    "'I have eaten ' + '99' + ' burritos.'"
   ]
  },
  {
   "cell_type": "code",
   "execution_count": null,
   "id": "48563d1d",
   "metadata": {},
   "outputs": [],
   "source": []
  }
 ],
 "metadata": {
  "kernelspec": {
   "display_name": "Python 3 (ipykernel)",
   "language": "python",
   "name": "python3"
  },
  "language_info": {
   "codemirror_mode": {
    "name": "ipython",
    "version": 3
   },
   "file_extension": ".py",
   "mimetype": "text/x-python",
   "name": "python",
   "nbconvert_exporter": "python",
   "pygments_lexer": "ipython3",
   "version": "3.9.7"
  }
 },
 "nbformat": 4,
 "nbformat_minor": 5
}
